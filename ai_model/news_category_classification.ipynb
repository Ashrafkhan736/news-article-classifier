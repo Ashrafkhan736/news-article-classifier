{
 "cells": [
  {
   "cell_type": "code",
   "execution_count": 92,
   "metadata": {},
   "outputs": [],
   "source": [
    "import pandas as pd\n",
    "import numpy as np\n",
    "from sklearn.linear_model import LogisticRegression\n",
    "from sklearn.metrics import f1_score,confusion_matrix,ConfusionMatrixDisplay\n",
    "from sklearn.model_selection import train_test_split\n",
    "from sklearn.preprocessing import LabelEncoder\n",
    "from sklearn.feature_extraction.text import  TfidfVectorizer\n",
    "from sklearn.pipeline import make_pipeline \n",
    "from sklearn.ensemble import RandomForestClassifier\n",
    "from string import punctuation\n",
    "from nltk.corpus import stopwords\n",
    "stop_words = set(stopwords.words('english'))\n",
    "punctuation = punctuation + '\\n' + '—' + '“' + ',' + '”' + '‘' + '-' + '’'\n",
    "import re\n"
   ]
  },
  {
   "cell_type": "code",
   "execution_count": 123,
   "metadata": {},
   "outputs": [
    {
     "data": {
      "text/html": [
       "<div>\n",
       "<style scoped>\n",
       "    .dataframe tbody tr th:only-of-type {\n",
       "        vertical-align: middle;\n",
       "    }\n",
       "\n",
       "    .dataframe tbody tr th {\n",
       "        vertical-align: top;\n",
       "    }\n",
       "\n",
       "    .dataframe thead th {\n",
       "        text-align: right;\n",
       "    }\n",
       "</style>\n",
       "<table border=\"1\" class=\"dataframe\">\n",
       "  <thead>\n",
       "    <tr style=\"text-align: right;\">\n",
       "      <th></th>\n",
       "      <th>category</th>\n",
       "      <th>filename</th>\n",
       "      <th>title</th>\n",
       "      <th>content</th>\n",
       "    </tr>\n",
       "  </thead>\n",
       "  <tbody>\n",
       "    <tr>\n",
       "      <th>0</th>\n",
       "      <td>business</td>\n",
       "      <td>001.txt</td>\n",
       "      <td>Ad sales boost Time Warner profit</td>\n",
       "      <td>Quarterly profits at US media giant TimeWarne...</td>\n",
       "    </tr>\n",
       "    <tr>\n",
       "      <th>1</th>\n",
       "      <td>business</td>\n",
       "      <td>002.txt</td>\n",
       "      <td>Dollar gains on Greenspan speech</td>\n",
       "      <td>The dollar has hit its highest level against ...</td>\n",
       "    </tr>\n",
       "    <tr>\n",
       "      <th>2</th>\n",
       "      <td>business</td>\n",
       "      <td>003.txt</td>\n",
       "      <td>Yukos unit buyer faces loan claim</td>\n",
       "      <td>The owners of embattled Russian oil giant Yuk...</td>\n",
       "    </tr>\n",
       "    <tr>\n",
       "      <th>3</th>\n",
       "      <td>business</td>\n",
       "      <td>004.txt</td>\n",
       "      <td>High fuel prices hit BA's profits</td>\n",
       "      <td>British Airways has blamed high fuel prices f...</td>\n",
       "    </tr>\n",
       "    <tr>\n",
       "      <th>4</th>\n",
       "      <td>business</td>\n",
       "      <td>005.txt</td>\n",
       "      <td>Pernod takeover talk lifts Domecq</td>\n",
       "      <td>Shares in UK drinks and food firm Allied Dome...</td>\n",
       "    </tr>\n",
       "  </tbody>\n",
       "</table>\n",
       "</div>"
      ],
      "text/plain": [
       "   category filename                              title  \\\n",
       "0  business  001.txt  Ad sales boost Time Warner profit   \n",
       "1  business  002.txt   Dollar gains on Greenspan speech   \n",
       "2  business  003.txt  Yukos unit buyer faces loan claim   \n",
       "3  business  004.txt  High fuel prices hit BA's profits   \n",
       "4  business  005.txt  Pernod takeover talk lifts Domecq   \n",
       "\n",
       "                                             content  \n",
       "0   Quarterly profits at US media giant TimeWarne...  \n",
       "1   The dollar has hit its highest level against ...  \n",
       "2   The owners of embattled Russian oil giant Yuk...  \n",
       "3   British Airways has blamed high fuel prices f...  \n",
       "4   Shares in UK drinks and food firm Allied Dome...  "
      ]
     },
     "execution_count": 123,
     "metadata": {},
     "output_type": "execute_result"
    }
   ],
   "source": [
    "df = pd.read_csv('./bbc-news-data.csv',sep='\\t')\n",
    "df.head()"
   ]
  },
  {
   "cell_type": "code",
   "execution_count": 124,
   "metadata": {},
   "outputs": [
    {
     "data": {
      "text/plain": [
       "True"
      ]
     },
     "execution_count": 124,
     "metadata": {},
     "output_type": "execute_result"
    }
   ],
   "source": [
    "X,y = df.loc[:,'content'], df.loc[:,'category']\n",
    "X.shape == y.shape"
   ]
  },
  {
   "cell_type": "code",
   "execution_count": 122,
   "metadata": {},
   "outputs": [],
   "source": [
    "def preprocessing(text):\n",
    "    # removing non alphanumeric characters\n",
    "    text = re.sub(r'[^A-Z a-z 0-9]','',text)\n",
    "\n",
    "    #removing punctuations\n",
    "    text =  ''.join(char for char in text if char not in punctuation)\n",
    "    \n",
    "    #removing trailing whitespaces again\n",
    "    text = re.sub(r' +',' ', text)\n",
    "    \n",
    "    #removing the stopword\n",
    "    text =  ' '.join(word for word in text.split() if word not in stop_words)\n",
    "\n",
    "\n",
    "    return text.lower()"
   ]
  },
  {
   "cell_type": "code",
   "execution_count": 125,
   "metadata": {},
   "outputs": [],
   "source": [
    "X = X.apply(lambda x:preprocessing(x))"
   ]
  },
  {
   "cell_type": "code",
   "execution_count": 126,
   "metadata": {},
   "outputs": [
    {
     "data": {
      "text/plain": [
       "(2225,)"
      ]
     },
     "execution_count": 126,
     "metadata": {},
     "output_type": "execute_result"
    }
   ],
   "source": [
    "X.shape"
   ]
  },
  {
   "cell_type": "code",
   "execution_count": 9,
   "metadata": {},
   "outputs": [],
   "source": [
    "from sklearn.datasets import fetch_20newsgroups"
   ]
  },
  {
   "cell_type": "code",
   "execution_count": 10,
   "metadata": {},
   "outputs": [],
   "source": [
    "train = fetch_20newsgroups(subset='train')\n",
    "test = fetch_20newsgroups(subset='test')"
   ]
  },
  {
   "cell_type": "code",
   "execution_count": 98,
   "metadata": {},
   "outputs": [
    {
     "data": {
      "text/plain": [
       "Pipeline(steps=[('tfidfvectorizer', TfidfVectorizer()),\n",
       "                ('logisticregression', LogisticRegression())])"
      ]
     },
     "execution_count": 98,
     "metadata": {},
     "output_type": "execute_result"
    }
   ],
   "source": [
    "pipe = make_pipeline(TfidfVectorizer(),LogisticRegression())\n",
    "pipe"
   ]
  },
  {
   "cell_type": "code",
   "execution_count": 127,
   "metadata": {},
   "outputs": [],
   "source": [
    "label_encoder = LabelEncoder()\n",
    "labels = label_encoder.fit_transform(y)\n",
    "X_train , X_val, y_train, y_val = train_test_split(X,labels,test_size=0.2,stratify=labels,random_state=42)"
   ]
  },
  {
   "cell_type": "code",
   "execution_count": 128,
   "metadata": {},
   "outputs": [
    {
     "data": {
      "text/plain": [
       "Pipeline(steps=[('tfidfvectorizer', TfidfVectorizer()),\n",
       "                ('logisticregression', LogisticRegression())])"
      ]
     },
     "execution_count": 128,
     "metadata": {},
     "output_type": "execute_result"
    }
   ],
   "source": [
    "pipe.fit(X_train,y_train)"
   ]
  },
  {
   "cell_type": "code",
   "execution_count": 129,
   "metadata": {},
   "outputs": [
    {
     "data": {
      "text/plain": [
       "0.9887325858141044"
      ]
     },
     "execution_count": 129,
     "metadata": {},
     "output_type": "execute_result"
    }
   ],
   "source": [
    "y_pred = pipe.predict(X_val)\n",
    "f1_score(y_val,y_pred,average='weighted')"
   ]
  },
  {
   "cell_type": "code",
   "execution_count": 106,
   "metadata": {},
   "outputs": [
    {
     "data": {
      "text/plain": [
       "<sklearn.metrics._plot.confusion_matrix.ConfusionMatrixDisplay at 0x7faeb2827dc0>"
      ]
     },
     "execution_count": 106,
     "metadata": {},
     "output_type": "execute_result"
    },
    {
     "data": {
      "image/png": "[encoded data removed]",
      "text/plain": [
       "<Figure size 640x480 with 2 Axes>"
      ]
     },
     "metadata": {},
     "output_type": "display_data"
    }
   ],
   "source": [
    "cm = confusion_matrix(y_val,y_pred)\n",
    "ConfusionMatrixDisplay(cm).plot()"
   ]
  },
  {
   "cell_type": "code",
   "execution_count": 130,
   "metadata": {},
   "outputs": [],
   "source": [
    "text ='''\n",
    " With each passing day, The Kerala Story is becoming strong at the box office. The film is inching close to Rs 150 crore mark and has also surpassed Salman Khan’s recently released Kisi Ka Bhai Kisi Ki Jaan. However, The Kerala Story’s lead actress Adah Sharma never expected the movie to perform this well at the box office. In an exclusive interview with News18 Showsha, Adah confessed she never thought that “crores of people\" would watch her movie.\n",
    "\n",
    "“As an actor, I don’t know all these figures. We do all this hoping people watch it. I knew that this was a subject that if people would watch, they would connect emotionally with it. That mother-daughter emotion is really strong in the film. That is what touched me when I heard the script. It is a haunting thing. It is scary. I thought that if the mother-daughter connects (with the audience), it will really work. But I didn’t expect this. I didn’t expect so many crores of people to watch it,\" she told us.\n",
    "\n",
    "Adah further revealed that even The Kerala Story’s global release was never part of the plan. She shared that a decision regarding the same was taken after the film received an overwhelming response in India. Adah claimed that after the India release, distributors from several countries including Denmark and Sweden contacted the makers and that’s when it was decided that The Kerala Story would release in 37 countries.\n",
    "\n",
    "“It was definitely not a plan in the beginning. As you know, it is not a big-budget movie. That (global release) was not the plan. After it released in India, a lot of people were expressing their views and were writing about it. Abroad, this ISIS bride is a situation that everyone addresses and speaks about very openly. There are a lot of activists talking about it. Everyone knows that it exists and therefore, they want to get terrorism out. When they got to know what the subject is, we got calls from Denmark, Sweden, Ireland and Korea. So many places showed interest to release the film,\" Adah said.\n",
    "\n",
    "From collecting Rs 8.05 crore on its opening day to recording a massive Rs 23.75 crore collection on its second Sunday; Adah Sharma mentioned that the film has proved that word-of-mouth is the best promotion for a good movie. She further slammed those who are calling her film ‘propaganda’ and sent out a strong message for all by saying, ‘terrorism is real’.\n",
    "\n",
    "“They cannot say it is some political party agenda. They cannot bring in elections also now because all of this is over and the film is doing even better now than it was before. They cannot call it propaganda because people from abroad are also saying that such things actually exist. People are putting out actual testimonials. I think we are now getting love from people because everything is available in the public domain. People are showing so much support and love for our film because they can see that terrorism is real. I am really happy,\" the 31-year-old actress said.\n",
    "\n",
    "Adah further called The Kerala Story a ‘movement’ and wondered why some people have an issue with the film. She admitted that before the release, she was thinking if terror organisations will have a problem with her movie. “Once people have watched the movie, then nobody has had a problem. They can see that it is only about terrorism. I don’t know why some people have a problem with it in the first place. In the first line of the trailer, there is a man who says in English, ‘please tell me how you joined ISIS’ and in Hindi, I replied, ‘ISIS kab join kiya yeh jaane ke liye, kyu aur kaise join kiya, yeh jaana zaroori hai’. We had made our stance. I had asked if terror organisations are going to have a problem because we openly saying ISIS. I didn’t know people will have a problem with it. I thought people will be like, ‘wow, it is an anti-terrorism film’, ‘we should all watch it’,\" she shared.\n",
    "\n",
    "A section of the audience is not only calling The Kerala Story ‘propaganda’ movie but is also sending threat messages to the cast and crew members. Last week, the film’s director, Sudipto Sen informed police that one of the crew members received a threatening message which read, “They did not do a good thing by showing the story.\"\n",
    "top videos\n",
    "\n",
    "    SidKiara Share Unseen Pics From Wedding Ceremonies | Alia Bhatt Jets Off For Gucci Event | News Wrap\n",
    "    Shah Rukh Khan's Don 3 Is On Track; Farhan Akhtar Is Completing The Script | How Will It Fare?\n",
    "    Priyanka Chopra, Alia Bhatt, Anushka & Kareena Kapoor | Let's Celebrate New-Age Moms On Mother's Day\n",
    "    Parineeti Chopra & Raghav Chadha Exchange Rings; Wishes Pour In | Priyanka Chopra Stuns In Yellow\n",
    "    Parineeti Chopra & Raghav Chadha Are Now Engaged To Be Married | FIRST PHOTOS OF THE COUPLE ARE OUT\n",
    "\n",
    "The situation is a little different for Adah. She shared how even a single hate message around her film is now flooded with replies from people supporting the movie. Adah also questioned those spreading hate on social media regarding The Kerala Story and wondered if they are paid to say such things.\n",
    "\n",
    "“Even one negative comment has so many people supporting me under it. But also, have you seen the movie and then are you saying things? No. Without watching the film people are saying certain things. Maybe it is because they have their own political agenda or they want to connect it with the propaganda of their own or are paid to say it, or maybe they have their own propaganda and that’s why they are compelled to say things. But I think everyone should have his/her opinion… I am totally against terrorism and hence, I stand with the movie which is against terrorism,\" Adah concluded.\n",
    "About the Author\n",
    "\n",
    "Chirag Sehgal\n",
    "Chirag Sehgal, Sub Editor at News18, covers Bollywood, television and K-pop group BTS. Apart from digging deep into the world of television and Bollyw...Read More\n",
    "Tags:\n",
    "\n",
    "    Adah SharmabollywoodShowsha ExclusivesThe Kerala Story\n",
    "\n",
    "first published:May 16, 2023, 09:07 IST\n",
    "last updated:May 16, 2023, 09:08 IST\n",
    "'''\n",
    "text = preprocessing(text)"
   ]
  },
  {
   "cell_type": "code",
   "execution_count": 135,
   "metadata": {},
   "outputs": [
    {
     "data": {
      "text/plain": [
       "1"
      ]
     },
     "execution_count": 135,
     "metadata": {},
     "output_type": "execute_result"
    }
   ],
   "source": [
    "pipe.predict(pd.Series(text))[0]"
   ]
  },
  {
   "cell_type": "code",
   "execution_count": 132,
   "metadata": {},
   "outputs": [
    {
     "data": {
      "text/plain": [
       "'with passing day the kerala story becoming strong box office the film inching close rs 150 crore mark also surpassed salman khans recently released kisi ka bhai kisi ki jaan however the kerala storys lead actress adah sharma never expected movie perform well box office in exclusive interview news18 showsha adah confessed never thought crores people would watch movieas actor i dont know figures we hoping people watch i knew subject people would watch would connect emotionally that motherdaughter emotion really strong film that touched i heard script it haunting thing it scary i thought motherdaughter connects audience really work but i didnt expect i didnt expect many crores people watch told usadah revealed even the kerala storys global release never part plan she shared decision regarding taken film received overwhelming response india adah claimed india release distributors several countries including denmark sweden contacted makers thats decided the kerala story would release 37 countriesit definitely plan beginning as know bigbudget movie that global release plan after released india lot people expressing views writing abroad isis bride situation everyone addresses speaks openly there lot activists talking everyone knows exists therefore want get terrorism when got know subject got calls denmark sweden ireland korea so many places showed interest release film adah saidfrom collecting rs 805 crore opening day recording massive rs 2375 crore collection second sunday adah sharma mentioned film proved wordofmouth best promotion good movie she slammed calling film propaganda sent strong message saying terrorism realthey cannot say political party agenda they cannot bring elections also film even better they cannot call propaganda people abroad also saying things actually exist people putting actual testimonials i think getting love people everything available public domain people showing much support love film see terrorism real i really happy 31yearold actress saidadah called the kerala story movement wondered people issue film she admitted release thinking terror organisations problem movie once people watched movie nobody problem they see terrorism i dont know people problem first place in first line trailer man says english please tell joined isis hindi i replied isis kab join kiya yeh jaane ke liye kyu aur kaise join kiya yeh jaana zaroori hai we made stance i asked terror organisations going problem openly saying isis i didnt know people problem i thought people like wow antiterrorism film watch shareda section audience calling the kerala story propaganda movie also sending threat messages cast crew members last week films director sudipto sen informed police one crew members received threatening message read they good thing showing storytop videos sidkiara share unseen pics from wedding ceremonies alia bhatt jets off for gucci event news wrap shah rukh khans don 3 is on track farhan akhtar is completing the script how will it fare priyanka chopra alia bhatt anushka kareena kapoor lets celebrate newage moms on mothers day parineeti chopra raghav chadha exchange rings wishes pour in priyanka chopra stuns in yellow parineeti chopra raghav chadha are now engaged to be married first photos of the couple are outthe situation little different adah she shared even single hate message around film flooded replies people supporting movie adah also questioned spreading hate social media regarding the kerala story wondered paid say thingseven one negative comment many people supporting but also seen movie saying things no without watching film people saying certain things maybe political agenda want connect propaganda paid say maybe propaganda thats compelled say things but i think everyone hisher opinion i totally terrorism hence i stand movie terrorism adah concludedabout authorchirag sehgalchirag sehgal sub editor news18 covers bollywood television kpop group bts apart digging deep world television bollywread moretags adah sharmabollywoodshowsha exclusivesthe kerala storyfirst publishedmay 16 2023 0907 istlast updatedmay 16 2023 0908 ist'"
      ]
     },
     "execution_count": 132,
     "metadata": {},
     "output_type": "execute_result"
    }
   ],
   "source": [
    "text"
   ]
  },
  {
   "cell_type": "code",
   "execution_count": 137,
   "metadata": {},
   "outputs": [
    {
     "data": {
      "text/plain": [
       "array(['business', 'entertainment', 'politics', 'sport', 'tech'],\n",
       "      dtype=object)"
      ]
     },
     "execution_count": 137,
     "metadata": {},
     "output_type": "execute_result"
    }
   ],
   "source": [
    "label_encoder.classes_"
   ]
  }
 ],
 "metadata": {
  "kernelspec": {
   "display_name": "base",
   "language": "python",
   "name": "python3"
  },
  "language_info": {
   "codemirror_mode": {
    "name": "ipython",
    "version": 3
   },
   "file_extension": ".py",
   "mimetype": "text/x-python",
   "name": "python",
   "nbconvert_exporter": "python",
   "pygments_lexer": "ipython3",
   "version": "3.9.13"
  },
  "orig_nbformat": 4
 },
 "nbformat": 4,
 "nbformat_minor": 2
}
